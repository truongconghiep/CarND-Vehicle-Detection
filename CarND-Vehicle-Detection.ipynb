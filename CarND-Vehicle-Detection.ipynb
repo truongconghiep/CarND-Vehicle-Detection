{
 "cells": [
  {
   "cell_type": "markdown",
   "metadata": {},
   "source": [
    " # UDACITY - VEHICLE DETECTION PROJECT\n",
    "\n"
   ]
  },
  {
   "cell_type": "markdown",
   "metadata": {
    "code_folding": [
     217
    ]
   },
   "source": [
    "#### Hiep Truong Cong"
   ]
  },
  {
   "cell_type": "markdown",
   "metadata": {
    "collapsed": true
   },
   "source": [
    "### Content\n",
    "* Feature extraction\n",
    "    + Color feature extraction\n",
    "    + Historgram fearture extraction\n",
    "    + HOG feature extraction\n",
    "    + Combination of extracted features\n",
    "* Training a classifier\n",
    "    + Prepare training data\n",
    "    + Normalize the traing data\n",
    "    + Training the classifier\n",
    "    + Evaluate the classifier\n",
    "* Sliding window search\n",
    "    + Sliding window\n",
    "    + Classifier each window\n",
    "    + Combine detected windows\n",
    "* Video pipline"
   ]
  },
  {
   "cell_type": "code",
   "execution_count": null,
   "metadata": {
    "collapsed": true
   },
   "outputs": [],
   "source": []
  }
 ],
 "metadata": {
  "kernelspec": {
   "display_name": "Python 3",
   "language": "python",
   "name": "python3"
  },
  "language_info": {
   "codemirror_mode": {
    "name": "ipython",
    "version": 3
   },
   "file_extension": ".py",
   "mimetype": "text/x-python",
   "name": "python",
   "nbconvert_exporter": "python",
   "pygments_lexer": "ipython3",
   "version": "3.6.1"
  }
 },
 "nbformat": 4,
 "nbformat_minor": 2
}
